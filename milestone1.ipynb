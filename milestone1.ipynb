{
 "cells": [
  {
   "cell_type": "markdown",
   "id": "8df92a50",
   "metadata": {},
   "source": [
    "# milestone 1 \n",
    "\n",
    "Expore the problem with immutable vs mutable objects"
   ]
  },
  {
   "cell_type": "code",
   "execution_count": 1,
   "id": "7b8abaf4",
   "metadata": {},
   "outputs": [
    {
     "name": "stdout",
     "output_type": "stream",
     "text": [
      "value of a: one\n",
      "value of b: two\n"
     ]
    }
   ],
   "source": [
    "a = \"one\"\n",
    "b = a\n",
    "b = \"two\"\n",
    "\n",
    "print (f\"value of a: {a}\")\n",
    "print (f\"value of b: {b}\")"
   ]
  },
  {
   "cell_type": "code",
   "execution_count": 4,
   "id": "385c18f7",
   "metadata": {},
   "outputs": [
    {
     "name": "stdout",
     "output_type": "stream",
     "text": [
      "value of a: 1\n",
      "value of b: two\n"
     ]
    }
   ],
   "source": [
    "a = 1\n",
    "b = a\n",
    "b = \"two\"\n",
    "\n",
    "print (f\"value of a: {a}\")\n",
    "print (f\"value of b: {b}\")"
   ]
  },
  {
   "cell_type": "code",
   "execution_count": 2,
   "id": "7e874b53",
   "metadata": {},
   "outputs": [
    {
     "ename": "TypeError",
     "evalue": "'tuple' object does not support item assignment",
     "output_type": "error",
     "traceback": [
      "\u001b[0;31m---------------------------------------------------------------------------\u001b[0m",
      "\u001b[0;31mTypeError\u001b[0m                                 Traceback (most recent call last)",
      "Input \u001b[0;32mIn [2]\u001b[0m, in \u001b[0;36m<cell line: 3>\u001b[0;34m()\u001b[0m\n\u001b[1;32m      1\u001b[0m a \u001b[38;5;241m=\u001b[39m (\u001b[38;5;241m1\u001b[39m,\u001b[38;5;241m2\u001b[39m,\u001b[38;5;241m3\u001b[39m)\n\u001b[1;32m      2\u001b[0m b \u001b[38;5;241m=\u001b[39m a\n\u001b[0;32m----> 3\u001b[0m \u001b[43mb\u001b[49m\u001b[43m[\u001b[49m\u001b[38;5;241;43m1\u001b[39;49m\u001b[43m]\u001b[49m \u001b[38;5;241m=\u001b[39m \u001b[38;5;241m9\u001b[39m\n\u001b[1;32m      5\u001b[0m \u001b[38;5;28mprint\u001b[39m (\u001b[38;5;124mf\u001b[39m\u001b[38;5;124m\"\u001b[39m\u001b[38;5;124mvalue of a: \u001b[39m\u001b[38;5;132;01m{\u001b[39;00ma\u001b[38;5;132;01m}\u001b[39;00m\u001b[38;5;124m\"\u001b[39m)\n\u001b[1;32m      6\u001b[0m \u001b[38;5;28mprint\u001b[39m (\u001b[38;5;124mf\u001b[39m\u001b[38;5;124m\"\u001b[39m\u001b[38;5;124mvalue of b: \u001b[39m\u001b[38;5;132;01m{\u001b[39;00mb\u001b[38;5;132;01m}\u001b[39;00m\u001b[38;5;124m\"\u001b[39m)\n",
      "\u001b[0;31mTypeError\u001b[0m: 'tuple' object does not support item assignment"
     ]
    }
   ],
   "source": [
    "a = (1,2,3)\n",
    "b = a\n",
    "b[1] = 9\n",
    "\n",
    "print (f\"value of a: {a}\")\n",
    "print (f\"value of b: {b}\")"
   ]
  },
  {
   "cell_type": "code",
   "execution_count": 3,
   "id": "d3df2b4a",
   "metadata": {},
   "outputs": [
    {
     "name": "stdout",
     "output_type": "stream",
     "text": [
      "value of a: (1, 2, 3)\n",
      "value of b: (4, 5, 6)\n"
     ]
    }
   ],
   "source": [
    "a = (1,2,3)\n",
    "b = a\n",
    "b = (4,5,6)\n",
    "\n",
    "print (f\"value of a: {a}\")\n",
    "print (f\"value of b: {b}\")"
   ]
  },
  {
   "cell_type": "code",
   "execution_count": 5,
   "id": "3204fe00",
   "metadata": {},
   "outputs": [
    {
     "name": "stdout",
     "output_type": "stream",
     "text": [
      "value of a: {'one': 1, 'two': 5, 'three': 3}\n",
      "value of b: {'one': 1, 'two': 5, 'three': 3}\n"
     ]
    }
   ],
   "source": [
    "a = {\"one\":1, \"two\":2, \"three\":3}\n",
    "b = a\n",
    "b[\"two\"] = 5\n",
    "\n",
    "print (f\"value of a: {a}\")\n",
    "print (f\"value of b: {b}\")"
   ]
  },
  {
   "cell_type": "code",
   "execution_count": 6,
   "id": "c8e6925e",
   "metadata": {},
   "outputs": [
    {
     "name": "stdout",
     "output_type": "stream",
     "text": [
      "value of a: {'one': 1, 'two': 2, 'three': 3}\n",
      "value of b: {'four': 4, 'five': 5, 'six': 6}\n"
     ]
    }
   ],
   "source": [
    "a = {\"one\":1, \"two\":2, \"three\":3}\n",
    "b = a\n",
    "b = {\"four\":4, \"five\":5, \"six\":6}\n",
    "\n",
    "print (f\"value of a: {a}\")\n",
    "print (f\"value of b: {b}\")"
   ]
  },
  {
   "cell_type": "code",
   "execution_count": null,
   "id": "4e54bdfd",
   "metadata": {},
   "outputs": [],
   "source": []
  }
 ],
 "metadata": {
  "kernelspec": {
   "display_name": "Python 3 (ipykernel)",
   "language": "python",
   "name": "python3"
  },
  "language_info": {
   "codemirror_mode": {
    "name": "ipython",
    "version": 3
   },
   "file_extension": ".py",
   "mimetype": "text/x-python",
   "name": "python",
   "nbconvert_exporter": "python",
   "pygments_lexer": "ipython3",
   "version": "3.9.13"
  }
 },
 "nbformat": 4,
 "nbformat_minor": 5
}
